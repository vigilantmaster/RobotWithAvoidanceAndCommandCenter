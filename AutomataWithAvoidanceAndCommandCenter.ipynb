{
  "nbformat": 4,
  "nbformat_minor": 0,
  "metadata": {
    "colab": {
      "provenance": [],
      "authorship_tag": "ABX9TyN3c/h6tSgTPSRLQEX/ZX3d",
      "include_colab_link": true
    },
    "kernelspec": {
      "name": "python3",
      "display_name": "Python 3"
    },
    "language_info": {
      "name": "python"
    }
  },
  "cells": [
    {
      "cell_type": "markdown",
      "metadata": {
        "id": "view-in-github",
        "colab_type": "text"
      },
      "source": [
        "<a href=\"https://colab.research.google.com/github/vigilantmaster/RobotWithAvoidanceAndCommandCenter/blob/main/AutomataWithAvoidanceAndCommandCenter.ipynb\" target=\"_parent\"><img src=\"https://colab.research.google.com/assets/colab-badge.svg\" alt=\"Open In Colab\"/></a>"
      ]
    },
    {
      "cell_type": "markdown",
      "source": [
        "This project uses a matrix to keep track of obstacles and the matrix gets updated when an object is detected."
      ],
      "metadata": {
        "id": "iic9xVyDjGVt"
      }
    },
    {
      "cell_type": "markdown",
      "source": [
        "# Web Server for Commands"
      ],
      "metadata": {
        "id": "mcRzbAwGfZ-O"
      }
    },
    {
      "cell_type": "code",
      "source": [
        "from flask import Flask, request, jsonify\n",
        "\n",
        "app = Flask(__name__)\n",
        "\n",
        "# Global variables for commands\n",
        "command = {\"target\": None, \"action\": None}\n",
        "\n",
        "@app.route('/send_command', methods=['POST'])\n",
        "def send_command():\n",
        "    data = request.json\n",
        "    command[\"target\"] = data.get(\"target\")  # e.g., [3, 5]\n",
        "    command[\"action\"] = data.get(\"action\")  # e.g., \"honk\"\n",
        "    return jsonify({\"status\": \"Command received\", \"command\": command})\n",
        "\n",
        "@app.route('/get_status', methods=['GET'])\n",
        "def get_status():\n",
        "    return jsonify({\"location\": robot.get_location(), \"map\": robot.get_map()})\n",
        "\n",
        "if __name__ == '__main__':\n",
        "    app.run(host='0.0.0.0', port=5000)\n",
        "#runs locally"
      ],
      "metadata": {
        "id": "W_-btXvoe1_y"
      },
      "execution_count": null,
      "outputs": []
    },
    {
      "cell_type": "markdown",
      "source": [
        "#  Pathfinding with A*"
      ],
      "metadata": {
        "id": "7Bm-4WVYfWPb"
      }
    },
    {
      "cell_type": "code",
      "source": [
        "import heapq\n",
        "\n",
        "class Robot:\n",
        "    def __init__(self, grid_size):\n",
        "        self.grid_size = grid_size\n",
        "        self.map = [[0] * grid_size for _ in range(grid_size)]  # 0: Free, 1: Obstacle\n",
        "        self.location = [0, 0]  # Starting location\n",
        "\n",
        "    def update_map(self, obstacles):\n",
        "        for x, y in obstacles:\n",
        "            self.map[y][x] = 1\n",
        "\n",
        "    def get_location(self):\n",
        "        return self.location\n",
        "\n",
        "    def get_map(self):\n",
        "        return self.map\n",
        "\n",
        "    def astar(self, start, goal):\n",
        "        def heuristic(a, b):\n",
        "            return abs(a[0] - b[0]) + abs(a[1] - b[1])\n",
        "\n",
        "        open_set = []\n",
        "        heapq.heappush(open_set, (0, start))\n",
        "        came_from = {}\n",
        "        g_score = {start: 0}\n",
        "        f_score = {start: heuristic(start, goal)}\n",
        "\n",
        "        while open_set:\n",
        "            _, current = heapq.heappop(open_set)\n",
        "\n",
        "            if current == goal:\n",
        "                path = []\n",
        "                while current in came_from:\n",
        "                    path.append(current)\n",
        "                    current = came_from[current]\n",
        "                return path[::-1]\n",
        "\n",
        "            for dx, dy in [(-1, 0), (1, 0), (0, -1), (0, 1)]:\n",
        "                neighbor = (current[0] + dx, current[1] + dy)\n",
        "                if 0 <= neighbor[0] < self.grid_size and 0 <= neighbor[1] < self.grid_size:\n",
        "                    if self.map[neighbor[1]][neighbor[0]] == 1:  # Obstacle\n",
        "                        continue\n",
        "\n",
        "                    tentative_g_score = g_score.get(current, float('inf')) + 1\n",
        "                    if tentative_g_score < g_score.get(neighbor, float('inf')):\n",
        "                        came_from[neighbor] = current\n",
        "                        g_score[neighbor] = tentative_g_score\n",
        "                        f_score[neighbor] = tentative_g_score + heuristic(neighbor, goal)\n",
        "                        heapq.heappush(open_set, (f_score[neighbor], neighbor))\n",
        "\n",
        "        return None  # No path found\n",
        "\n",
        "robot = Robot(grid_size=10) # very small space unless each location is a waypoint\n"
      ],
      "metadata": {
        "id": "LYDVDnrAefEc"
      },
      "execution_count": null,
      "outputs": []
    },
    {
      "cell_type": "markdown",
      "source": [
        "# Navigation and Obstacle Avoidance"
      ],
      "metadata": {
        "id": "B6al7FhLf1Oo"
      }
    },
    {
      "cell_type": "code",
      "source": [
        "import time\n",
        "\n",
        "def navigate_to(target):\n",
        "    while True:\n",
        "        # Recalculate the path based on the current map\n",
        "        path = robot.astar(tuple(robot.get_location()), tuple(target))\n",
        "        if not path:\n",
        "            print(\"No path to target!\")\n",
        "            return\n",
        "\n",
        "        # Follow the path step by step\n",
        "        for step in path:\n",
        "            robot.location = list(step)  # Simulate movement\n",
        "            print(f\"Moving to {step}\")\n",
        "            time.sleep(0.5)  # Simulate delay\n",
        "\n",
        "            # Simulate obstacle detection\n",
        "            new_obstacles = detect_obstacles()  # Replace with sensor input\n",
        "            if new_obstacles:\n",
        "                robot.update_map(new_obstacles)\n",
        "                print(\"New obstacles detected. Updating map...\")\n",
        "                break  # Recalculate path\n",
        "\n",
        "        # Check if the robot has reached the target\n",
        "        if tuple(robot.get_location()) == tuple(target):\n",
        "            print(f\"Reached target: {target}\")\n",
        "            return\n",
        "\n",
        "\n",
        "def execute_action(action):\n",
        "    print(f\"Executing action: {action}\")\n",
        "    # Implement specific actions (e.g., honk, take a photo)\n"
      ],
      "metadata": {
        "id": "kbX3RzBseBEX"
      },
      "execution_count": null,
      "outputs": []
    },
    {
      "cell_type": "markdown",
      "source": [
        "# Main Loop"
      ],
      "metadata": {
        "id": "2rsHAIbRf7gX"
      }
    },
    {
      "cell_type": "code",
      "execution_count": null,
      "metadata": {
        "id": "z3dy2E4kcAzR"
      },
      "outputs": [],
      "source": [
        "import threading\n",
        "\n",
        "def main_loop():\n",
        "    while True:\n",
        "        if command[\"target\"] and command[\"action\"]:\n",
        "            navigate_to(command[\"target\"])\n",
        "            execute_action(command[\"action\"])\n",
        "            command[\"target\"], command[\"action\"] = None, None\n",
        "\n",
        "# Run the loop in a separate thread\n",
        "threading.Thread(target=main_loop, daemon=True).start()\n"
      ]
    },
    {
      "cell_type": "markdown",
      "source": [
        "# Example Workflow\n",
        "Open the web interface and send a command\n",
        "The robot receives the command, plans a path to [5, 7], navigates there, and honks."
      ],
      "metadata": {
        "id": "So8cWIt9gCQ4"
      }
    },
    {
      "cell_type": "code",
      "source": [
        "{\n",
        "    \"target\": [5, 7],\n",
        "    \"action\": \"honk\"\n",
        "}\n"
      ],
      "metadata": {
        "id": "7489r2VFe8nz"
      },
      "execution_count": null,
      "outputs": []
    },
    {
      "cell_type": "markdown",
      "source": [
        "# Things to Add\n",
        "\n",
        "*   Use ultrasonic sensors or a camera for real-time obstacle detection.\n",
        "*   Replace the static map with dynamic mapping (e.g., SLAM).\n",
        "*   Visualize the grid and path in the web interface using JavaScript.\n",
        "\n",
        "\n",
        "\n",
        "\n"
      ],
      "metadata": {
        "id": "wTzsSHwWgdIt"
      }
    },
    {
      "cell_type": "code",
      "source": [
        "import numpy as np\n",
        "\n",
        "def calculate_object_position(robot_position, robot_orientation, distance, object_angle):\n",
        "    \"\"\"\n",
        "    Calculate the object's position in the global coordinate system.\n",
        "\n",
        "    robot_position: Tuple (x_robot, y_robot) - Robot's current grid location\n",
        "    robot_orientation: Robot's orientation in radians (global frame)\n",
        "    distance: Distance to the object (meters)\n",
        "    object_angle: Angle to the object (radians) relative to the robot's forward direction\n",
        "    \"\"\"\n",
        "    x_robot, y_robot = robot_position\n",
        "\n",
        "    # Calculate the object's position in global coordinates\n",
        "    global_angle = robot_orientation + object_angle\n",
        "    x_object = x_robot + distance * np.cos(global_angle)\n",
        "    y_object = y_robot + distance * np.sin(global_angle)\n",
        "\n",
        "    return x_object, y_object\n"
      ],
      "metadata": {
        "id": "MT6gNKWgjNUJ"
      },
      "execution_count": null,
      "outputs": []
    },
    {
      "cell_type": "code",
      "source": [
        "def world_to_grid(x, y, grid_size, resolution):\n",
        "    \"\"\"\n",
        "    Convert real-world coordinates to grid indices.\n",
        "\n",
        "    x, y: Real-world coordinates (meters)\n",
        "    grid_size: Tuple (width, height) of the grid in cells\n",
        "    resolution: Size of each grid cell in meters\n",
        "    \"\"\"\n",
        "    grid_x = int(x / resolution)\n",
        "    grid_y = int(y / resolution)\n",
        "\n",
        "    # Ensure the grid coordinates are within bounds\n",
        "    grid_x = min(max(grid_x, 0), grid_size[0] - 1)\n",
        "    grid_y = min(max(grid_y, 0), grid_size[1] - 1)\n",
        "\n",
        "    return grid_x, grid_y\n"
      ],
      "metadata": {
        "id": "kyAOCj4vjHVM"
      },
      "execution_count": null,
      "outputs": []
    },
    {
      "cell_type": "code",
      "source": [
        "def update_area_matrix(area_matrix, obstacle_position, grid_size, resolution):\n",
        "    \"\"\"\n",
        "    Update the area matrix with the obstacle's position.\n",
        "\n",
        "    area_matrix: 2D grid representing the environment\n",
        "    obstacle_position: Tuple (x_object, y_object) in real-world coordinates\n",
        "    grid_size: Tuple (width, height) of the grid\n",
        "    resolution: Size of each grid cell in meters\n",
        "    \"\"\"\n",
        "    grid_x, grid_y = world_to_grid(obstacle_position[0], obstacle_position[1], grid_size, resolution)\n",
        "    area_matrix[grid_y][grid_x] = 1  # Mark as an obstacle\n",
        "    return area_matrix\n"
      ],
      "metadata": {
        "id": "ZbeB0JqKjFSD"
      },
      "execution_count": null,
      "outputs": []
    },
    {
      "cell_type": "code",
      "source": [
        "# Robot's initial parameters\n",
        "robot_position = (5.0, 5.0)  # Robot's position in meters\n",
        "robot_orientation = np.radians(45)  # Robot's orientation in radians\n",
        "\n",
        "# Detected object parameters\n",
        "distance_to_object = 2.0  # Distance to object in meters\n",
        "angle_to_object = np.radians(30)  # Angle to object in radians (relative to robot's forward direction)\n",
        "\n",
        "# Environment grid\n",
        "grid_size = (20, 20)  # Grid dimensions (20x20 cells)\n",
        "resolution = 0.5  # Each cell is 0.5 meters\n",
        "area_matrix = np.zeros(grid_size, dtype=int)  # Initialize grid\n",
        "\n",
        "# Step 1: Calculate the object's global position\n",
        "object_position = calculate_object_position(robot_position, robot_orientation, distance_to_object, angle_to_object)\n",
        "print(f\"Object position in real-world coordinates: {object_position}\")\n",
        "\n",
        "# Step 2: Update the area matrix\n",
        "area_matrix = update_area_matrix(area_matrix, object_position, grid_size, resolution)\n",
        "\n",
        "# Visualize the updated grid\n",
        "print(\"Updated Area Matrix:\")\n",
        "print(area_matrix)\n"
      ],
      "metadata": {
        "id": "Unz9hIv2i_Bd"
      },
      "execution_count": null,
      "outputs": []
    },
    {
      "cell_type": "markdown",
      "source": [
        "# Example Output\n",
        "For the example above, with a robot at position (5, 5) and an object 2 meters away at a 30° angle:\n",
        "\n",
        "Object's real-world position might be calculated as (6.732, 6.232).\n",
        "\n",
        "Mapped grid cell: (13, 12) in a 20x20 grid with a resolution of 0.5 meters.\n",
        "The area_matrix will have a 1 at the corresponding grid cell to indicate the obstacle.\n",
        "\n"
      ],
      "metadata": {
        "id": "IgucBuJWjsl1"
      }
    }
  ]
}